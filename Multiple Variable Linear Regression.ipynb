{
 "cells": [
  {
   "cell_type": "markdown",
   "metadata": {},
   "source": []
  },
  {
   "cell_type": "code",
   "execution_count": 3,
   "metadata": {},
   "outputs": [],
   "source": [
    "import copy,math\n",
    "import numpy as np\n",
    "import matplotlib.pyplot as plt\n",
    "\n",
    "np.set_printoptions(precision=2)  # reduced display precision on numpy arrays"
   ]
  },
  {
   "attachments": {},
   "cell_type": "markdown",
   "metadata": {},
   "source": [
    "\n",
    "| Size (sqft) | Number of Bedrooms  | Number of floors | Age of  Home | Price (1000s dollars)  |   \n",
    "| ----------------| ------------------- |----------------- |--------------|-------------- |  \n",
    "| 2104            | 5                   | 1                | 45           | 460           |  \n",
    "| 1416            | 3                   | 2                | 40           | 232           |  \n",
    "| 852             | 2                   | 1                | 35           | 178           |  \n",
    "\n",
    "We will build a linear regression model using these values so we can then predict the price for other houses. For example, a house with 1200 sqft, 3 bedrooms, 1 floor, 40 years old.  "
   ]
  },
  {
   "cell_type": "code",
   "execution_count": 4,
   "metadata": {},
   "outputs": [],
   "source": [
    "# set the data \n",
    "\n",
    "X_train  =  np.array([[2104,5,1,45],[1416,3,2,40],[852,2,1,35]])\n",
    "Y_train  = np.array([460,232,178])"
   ]
  },
  {
   "cell_type": "code",
   "execution_count": 5,
   "metadata": {},
   "outputs": [
    {
     "name": "stdout",
     "output_type": "stream",
     "text": [
      "X train =\n",
      " [[2104    5    1   45]\n",
      " [1416    3    2   40]\n",
      " [ 852    2    1   35]]\n",
      "\n",
      " Y train =\n",
      " [460 232 178]\n"
     ]
    }
   ],
   "source": [
    "print (f\"X train =\\n {X_train}\")\n",
    "print (f\"\\n Y train =\\n {Y_train}\")"
   ]
  },
  {
   "cell_type": "code",
   "execution_count": 6,
   "metadata": {},
   "outputs": [
    {
     "data": {
      "text/plain": [
       "(3,)"
      ]
     },
     "execution_count": 6,
     "metadata": {},
     "output_type": "execute_result"
    }
   ],
   "source": [
    "Y_train.shape"
   ]
  },
  {
   "cell_type": "code",
   "execution_count": 7,
   "metadata": {},
   "outputs": [
    {
     "data": {
      "text/plain": [
       "(3, 4)"
      ]
     },
     "execution_count": 7,
     "metadata": {},
     "output_type": "execute_result"
    }
   ],
   "source": [
    "X_train.shape"
   ]
  },
  {
   "attachments": {},
   "cell_type": "markdown",
   "metadata": {},
   "source": [
    "For demonstration, $\\mathbf{w}$ and $b$ will be loaded with some initial selected values that are near the optimal. $\\mathbf{w}$ is a 1-D NumPy vector."
   ]
  },
  {
   "cell_type": "code",
   "execution_count": 8,
   "metadata": {},
   "outputs": [
    {
     "name": "stdout",
     "output_type": "stream",
     "text": [
      "w_init shape: (4,), b_init type: <class 'float'>\n"
     ]
    }
   ],
   "source": [
    "b_init = 785.1811367994083\n",
    "w_init = np.array([ 0.39133535, 18.75376741, -53.36032453, -26.42131618])\n",
    "print(f\"w_init shape: {w_init.shape}, b_init type: {type(b_init)}\")"
   ]
  },
  {
   "attachments": {},
   "cell_type": "markdown",
   "metadata": {},
   "source": [
    "Single Prediction element by element"
   ]
  },
  {
   "cell_type": "code",
   "execution_count": 9,
   "metadata": {},
   "outputs": [],
   "source": [
    "def predict_single_loop(x,w,b):\n",
    "    \"\"\" \n",
    "     single predict using linear regression \n",
    "\n",
    "     Args :\n",
    "        x (ndarray) : Shape (n,) example with multible feature \n",
    "        w (ndarray) : Shape (n,) model parameters \n",
    "        b (scalar)  : model parameters \n",
    "\n",
    "    return \n",
    "    P is a scalar \n",
    "    \"\"\"\n",
    "\n",
    "    n = x.shape[0]\n",
    "    p = 0\n",
    "    for i in range(n):\n",
    "        p_i = x[i] * w[i]\n",
    "        p = p + p_i\n",
    "    p = p + b\n",
    "\n",
    "    return p"
   ]
  },
  {
   "cell_type": "code",
   "execution_count": 10,
   "metadata": {},
   "outputs": [
    {
     "name": "stdout",
     "output_type": "stream",
     "text": [
      "x_vec shap = (4,) and x_vec value = [2104    5    1   45]\n",
      " our prediction is 460.000 and it's shape is ()\n"
     ]
    }
   ],
   "source": [
    "# get a row from our training data \n",
    "x_vec = X_train[0,:]\n",
    "print (f\"x_vec shap = {x_vec.shape} and x_vec value = {x_vec}\")\n",
    "# make a prediction \n",
    "f_wb = predict_single_loop(x_vec , w_init,b_init)\n",
    "\n",
    "print (f\" our prediction is {f_wb:.3f} and it's shape is {f_wb.shape}\")"
   ]
  },
  {
   "attachments": {},
   "cell_type": "markdown",
   "metadata": {},
   "source": [
    "Single prediction vector "
   ]
  },
  {
   "cell_type": "code",
   "execution_count": 11,
   "metadata": {},
   "outputs": [],
   "source": [
    "def prediction_vector (x,w,b):\n",
    "    \"\"\" Single predict using liner regression \n",
    "    Args :\n",
    "        x (ndarray) shape (n,) example with multible feature \n",
    "        w (ndarray) shape (n,) example with multible feature \n",
    "        b (scalar)\n",
    "    \"\"\"\n",
    "\n",
    "    p = np.dot(x,w) + b\n",
    "\n",
    "    return p"
   ]
  },
  {
   "cell_type": "code",
   "execution_count": 12,
   "metadata": {},
   "outputs": [
    {
     "name": "stdout",
     "output_type": "stream",
     "text": [
      "x_vec shape is (4,) ,x_vex value is [2104    5    1   45]\n",
      "Our prediction value is 460.0000 and it's shape is ()\n"
     ]
    }
   ],
   "source": [
    "# get a row from our data set\n",
    "\n",
    "x_vec = X_train[0,:]\n",
    "print (f\"x_vec shape is {x_vec.shape} ,x_vex value is {x_vec}\")\n",
    "\n",
    "f_wb = prediction_vector (x_vec, w_init , b_init)\n",
    "\n",
    "print (f\"Our prediction value is {f_wb:.4f} and it's shape is {f_wb.shape}\")"
   ]
  },
  {
   "attachments": {},
   "cell_type": "markdown",
   "metadata": {},
   "source": [
    "Same results so we will always use one statment code for this prediction "
   ]
  },
  {
   "attachments": {},
   "cell_type": "markdown",
   "metadata": {},
   "source": [
    "Compute cost with Multiple variable "
   ]
  },
  {
   "cell_type": "code",
   "execution_count": 13,
   "metadata": {},
   "outputs": [],
   "source": [
    "def compute_cost (x,y,w,b):\n",
    "    \"\"\"\n",
    "    compue cost\n",
    "    Argu:\n",
    "        x (ndarray(m,n)) : Data, m exapmle with n feature \n",
    "        y (ndarray(m,))  : target values\n",
    "        w (ndarray(n,))  : model parameters \n",
    "        b (scalar)       : model parameter \n",
    "    \"\"\"\n",
    "    m = x.shape[0]\n",
    "    cost = 0.0\n",
    "    for i in range (m):\n",
    "        f_wb_i = np.dot(x[i],w)+b\n",
    "        cost = cost + (f_wb_i - y[i])**2\n",
    "        cost = cost / (2 * m)\n",
    "    \n",
    "    return cost\n"
   ]
  },
  {
   "cell_type": "code",
   "execution_count": 14,
   "metadata": {},
   "outputs": [
    {
     "name": "stdout",
     "output_type": "stream",
     "text": [
      "cost at optimal b = 2.7030944788097125e-13\n"
     ]
    }
   ],
   "source": [
    "cost = compute_cost(X_train , Y_train, w_init , b_init)\n",
    "\n",
    "print (f\"cost at optimal b = {cost}\")"
   ]
  },
  {
   "cell_type": "code",
   "execution_count": 15,
   "metadata": {},
   "outputs": [],
   "source": [
    "def compute_gradient (x,y,w,b):\n",
    "    \"\"\"  function descreption \n",
    "    Compute the gradient for linear regression \n",
    "\n",
    "        Args :\n",
    "     x (ndarray (m,n)) Data, m examples with n features\n",
    "     y (ndarray (m,))  target values \n",
    "     w (ndarray)       model parameters \n",
    "     b                 model parameter\n",
    "\n",
    "     return \n",
    "         dj_dw (ndarray(n,)) The gradient of the cost w.r.t. the parameters w.\n",
    "         dj_db (scalar)      The gradiant of the cost w.r.tt the parameter b.\n",
    "    \"\"\"\n",
    "\n",
    "    m,n = x.shape\n",
    "    dj_dw = np.zeros((n,))\n",
    "    dj_db = 0 \n",
    "\n",
    "    for i in range (m):\n",
    "        err = (np.dot(x[i] , w) + b) - y[i]\n",
    "        for j in range (n):\n",
    "            dj_dw[j] = dj_dw[j]+ err * x[i,j] \n",
    "        dj_db = dj_db+err\n",
    "\n",
    "    dj_dw = dj_dw / m\n",
    "    dj_db = dj_db / m \n",
    "\n",
    "    return dj_db ,dj_dw\n",
    "\n"
   ]
  },
  {
   "cell_type": "code",
   "execution_count": 16,
   "metadata": {},
   "outputs": [
    {
     "name": "stdout",
     "output_type": "stream",
     "text": [
      "dj_dw at initial w,b =\n",
      " [-2.73e-03 -6.27e-06 -2.22e-06 -6.92e-05]\n",
      "dj_db at intial w,b = \n",
      " -1.6739251122999121e-06\n"
     ]
    }
   ],
   "source": [
    "tmp_dj_db, tmp_dj_dw = compute_gradient ( X_train,Y_train  ,w_init,b_init)\n",
    "\n",
    "print (f\"dj_dw at initial w,b =\\n {tmp_dj_dw}\")\n",
    "print (f\"dj_db at intial w,b = \\n {tmp_dj_db}\")"
   ]
  },
  {
   "cell_type": "code",
   "execution_count": 33,
   "metadata": {},
   "outputs": [],
   "source": [
    "def gradient_descent (x,y,w_in,b_in,cost_function,gradient_function,alpha,num_iters):\n",
    "    \"\"\" function help\n",
    "\n",
    "    this function to performs batch graient descent to learn w and b, \n",
    "    updates w and b by taking num_iters gradient steps with learning rate alpha\n",
    "\n",
    "    Args :\n",
    "        x (ndarray(m,n))    : Data m examples and n is features \n",
    "        y (ndarray ((m,))   : target values\n",
    "        w_in (ndarray (n,)) : intial model parameters \n",
    "        b_in scalar         : intial model parameter\n",
    "        cost function       : function to compute cost\n",
    "        gradiant function   : finction to compute gradiant \n",
    "        alpha (float)       : learning rate \n",
    "        num_iters           : number of iterations to run gradiant descent \n",
    "\n",
    "        return:\n",
    "        w (ndarray (n,)) : updated value of parameters \n",
    "        b (scalar)       : updated value of paramete\n",
    "    \"\"\"\n",
    "\n",
    "    j_history=[] # an array to store cost j and w's at each iteration primarily for graphing later\n",
    "    w = copy.deepcopy(w_in)\n",
    "    b = b_in\n",
    "    for i in range (num_iters) :\n",
    "        #gradiant calulate and update the parameters \n",
    "        dj_db,dj_dw = gradient_function(x,y,w,b)\n",
    "        #update parameters using alpha and gradiant \n",
    "        w = w - alpha * dj_dw \n",
    "        b = b - alpha * dj_db\n",
    "\n",
    "        #if i <100000:\n",
    "            #j_history = j_history.append(cost_function(x,y,w,b)) # Save cost J at each iteration\n",
    "\n",
    "        #if i% math.ceil(num_iters / 10) == 0:\n",
    "            #print(f\"Iteration {i:4d} : cost {j_history[-1]:8.2f} \")\n",
    "        \n",
    "    return w,b,j_history"
   ]
  },
  {
   "cell_type": "code",
   "execution_count": null,
   "metadata": {},
   "outputs": [],
   "source": []
  },
  {
   "cell_type": "code",
   "execution_count": 34,
   "metadata": {},
   "outputs": [],
   "source": [
    "initial_w = np.zeros_like(w_init)\n",
    "intial_b = 0.\n",
    "\n",
    "iterations = 1000\n",
    "alpha = 5.0e-7\n",
    "\n",
    "w_final, b_final,j_hist = gradient_descent(X_train,Y_train,initial_w,intial_b,\n",
    "                                            compute_cost,compute_gradient,\n",
    "                                            alpha, iterations)"
   ]
  },
  {
   "cell_type": "code",
   "execution_count": 36,
   "metadata": {},
   "outputs": [],
   "source": [
    "# initialize parameters\n",
    "initial_w = np.zeros_like(w_init)\n",
    "initial_b = 0.\n",
    "# some gradient descent settings\n",
    "iterations = 1000\n",
    "alpha = 5.0e-7\n",
    "# run gradient descent \n",
    "w_final, b_final, J_hist = gradient_descent(X_train, Y_train, initial_w, initial_b,\n",
    "                                                    compute_cost, compute_gradient, \n",
    "                                                    alpha, iterations)\n"
   ]
  },
  {
   "cell_type": "code",
   "execution_count": 37,
   "metadata": {},
   "outputs": [
    {
     "name": "stdout",
     "output_type": "stream",
     "text": [
      "b,w found by gradient descent: -0.00,[ 0.2   0.   -0.01 -0.07] \n"
     ]
    }
   ],
   "source": [
    "print(f\"b,w found by gradient descent: {b_final:0.2f},{w_final} \")\n",
    "m,_ = X_train.shape"
   ]
  },
  {
   "cell_type": "code",
   "execution_count": 39,
   "metadata": {},
   "outputs": [
    {
     "name": "stdout",
     "output_type": "stream",
     "text": [
      "prediction: 426.19, target value: 460\n",
      "prediction: 286.17, target value: 232\n",
      "prediction: 171.47, target value: 178\n"
     ]
    }
   ],
   "source": [
    "for i in range(m):\n",
    "    print(f\"prediction: {np.dot(X_train[i], w_final) + b_final:0.2f}, target value: {Y_train[i]}\")"
   ]
  },
  {
   "cell_type": "code",
   "execution_count": 41,
   "metadata": {},
   "outputs": [
    {
     "name": "stdout",
     "output_type": "stream",
     "text": [
      "b,w found by gradient descent: -0.00,[ 0.2   0.   -0.01 -0.07] \n",
      "prediction: 426.19, target value: 460\n",
      "prediction: 286.17, target value: 232\n",
      "prediction: 171.47, target value: 178\n"
     ]
    }
   ],
   "source": [
    "# initialize parameters\n",
    "initial_w = np.zeros_like(w_init)\n",
    "initial_b = 0.\n",
    "# some gradient descent settings\n",
    "iterations = 1000\n",
    "alpha = 5.0e-7\n",
    "# run gradient descent \n",
    "w_final, b_final, J_hist = gradient_descent(X_train, Y_train, initial_w, initial_b,\n",
    "                                                    compute_cost, compute_gradient, \n",
    "                                                    alpha, iterations)\n",
    "print(f\"b,w found by gradient descent: {b_final:0.2f},{w_final} \")\n",
    "m,_ = X_train.shape\n",
    "for i in range(m):\n",
    "    print(f\"prediction: {np.dot(X_train[i], w_final) + b_final:0.2f}, target value: {Y_train[i]}\")"
   ]
  },
  {
   "cell_type": "code",
   "execution_count": null,
   "metadata": {},
   "outputs": [],
   "source": []
  }
 ],
 "metadata": {
  "kernelspec": {
   "display_name": "base",
   "language": "python",
   "name": "python3"
  },
  "language_info": {
   "codemirror_mode": {
    "name": "ipython",
    "version": 3
   },
   "file_extension": ".py",
   "mimetype": "text/x-python",
   "name": "python",
   "nbconvert_exporter": "python",
   "pygments_lexer": "ipython3",
   "version": "3.9.12"
  },
  "orig_nbformat": 4,
  "vscode": {
   "interpreter": {
    "hash": "bc40bc35b6e8f5a612d99dfe98b13a5df47ad86c9d3add2736c259d236f2d570"
   }
  }
 },
 "nbformat": 4,
 "nbformat_minor": 2
}
