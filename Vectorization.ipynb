{
 "cells": [
  {
   "attachments": {},
   "cell_type": "markdown",
   "metadata": {},
   "source": [
    "### Vectorization"
   ]
  },
  {
   "cell_type": "code",
   "execution_count": 58,
   "metadata": {},
   "outputs": [],
   "source": [
    "import numpy as np\n",
    "import time as tm "
   ]
  },
  {
   "cell_type": "code",
   "execution_count": 59,
   "metadata": {},
   "outputs": [
    {
     "name": "stdout",
     "output_type": "stream",
     "text": [
      "np.zeros(4) :  a = [0. 0. 0. 0.] , shape = (4,), data type = float64\n",
      "np.zeros((4,)) : a = [0. 0. 0. 0.] , shape = (4,) , data type = float64\n",
      "np.random.random_sample(4) : a= [0.52290133 0.70093002 0.71973833 0.61436243], shape = (4,), data type = float64\n"
     ]
    }
   ],
   "source": [
    "#Data creation routines in NumPy example\n",
    "\n",
    "a = np.zeros(4);  \n",
    "print (f\"np.zeros(4) :  a = {a} , shape = {a.shape}, data type = {a.dtype}\")\n",
    "\n",
    "a = np.zeros((4,));\n",
    "print (f\"np.zeros((4,)) : a = {a} , shape = {a.shape} , data type = {a.dtype}\")\n",
    "\n",
    "a = np.random.random_sample(4); \n",
    "print (f\"np.random.random_sample(4) : a= {a}, shape = {a.shape}, data type = {a.dtype}\")"
   ]
  },
  {
   "cell_type": "code",
   "execution_count": 60,
   "metadata": {},
   "outputs": [
    {
     "name": "stdout",
     "output_type": "stream",
     "text": [
      "np.arange(4.) : a = [0. 1. 2. 3.] , a shape = (4,) , data type = float64\n",
      "np.random.rand : a = [0.199155   0.52363862 0.84303824 0.78473921] , a shape = (4,) ,  data type = float64\n"
     ]
    }
   ],
   "source": [
    "#numpy rouines which allocate memory and fill arrays with value but don't accept shape as input argument \n",
    "a = np.arange(4.); \n",
    "print (f\"np.arange(4.) : a = {a} , a shape = {a.shape} , data type = {a.dtype}\")\n",
    "\n",
    "a=np.random.rand(4);\n",
    "print(f\"np.random.rand : a = {a} , a shape = {a.shape} ,  data type = {a.dtype}\")"
   ]
  },
  {
   "cell_type": "code",
   "execution_count": 61,
   "metadata": {},
   "outputs": [
    {
     "name": "stdout",
     "output_type": "stream",
     "text": [
      "[0 1 2 3 4 5 6 7 8 9]\n",
      "[0 1 2 3 4 5 6 7 8 9]\n",
      "a[2].shape: ()  , a[2]= 2 Accessing an element returns a scalar\n",
      "a[-1] 9\n"
     ]
    }
   ],
   "source": [
    "#lets play with operations using vectors \n",
    "\n",
    "\n",
    "a = np.arange(0,10,1)\n",
    "print(a)\n",
    "a = np.arange(10)\n",
    "print (a)\n",
    "\n",
    "print (f\"a[2].shape: {a[2].shape}  , a[2]= {a[2]} Accessing an element returns a scalar\")\n",
    "\n",
    "print (f\"a[-1] {a[-1]}\")"
   ]
  },
  {
   "attachments": {},
   "cell_type": "markdown",
   "metadata": {},
   "source": [
    "### Slicing \n",
    "\n"
   ]
  },
  {
   "cell_type": "code",
   "execution_count": 62,
   "metadata": {},
   "outputs": [
    {
     "name": "stdout",
     "output_type": "stream",
     "text": [
      "[0 1 2 3 4 5 6 7 8 9]\n",
      "[2 3 4 5 6]\n",
      "[2 4 6]\n",
      "[3 4 5 6 7 8 9]\n",
      "[0 1 2]\n"
     ]
    }
   ],
   "source": [
    "a = np.arange(10)\n",
    "print (a)\n",
    "\n",
    "# access 5 consecutive elements (start : stop : step )\n",
    "c =  a[2:7:1]\n",
    "print (c)\n",
    "\n",
    "# access 3 elemnts seperated by 2\n",
    "c = a[2:7:2]\n",
    "print (c)\n",
    "\n",
    "#access all elemnts index 4 and above \n",
    "c = a[3:]\n",
    "print (c)\n",
    "\n",
    "#access all elemnts  below index 4\n",
    "c = a[:3]\n",
    "print (c)\n"
   ]
  },
  {
   "attachments": {},
   "cell_type": "markdown",
   "metadata": {},
   "source": [
    "### Single vector operation "
   ]
  },
  {
   "cell_type": "code",
   "execution_count": 63,
   "metadata": {},
   "outputs": [
    {
     "name": "stdout",
     "output_type": "stream",
     "text": [
      "[1 2 3 4]\n",
      "[0 1 2 3]\n",
      "[1 2 3 4]\n",
      "10\n",
      "2.5\n",
      "[ 1  4  9 16]\n"
     ]
    }
   ],
   "source": [
    "a = np.array([1,2,3,4])\n",
    "print (a)\n",
    "\n",
    "a1= np.arange(4)\n",
    "print(a1)\n",
    "\n",
    "b = -a\n",
    "print (a)\n",
    "\n",
    "b = np.sum(a)\n",
    "print (b)\n",
    "\n",
    "b = np.mean(a)\n",
    "print (b)\n",
    "\n",
    "b = a **2 \n",
    "print (b)"
   ]
  },
  {
   "cell_type": "code",
   "execution_count": 64,
   "metadata": {},
   "outputs": [
    {
     "name": "stdout",
     "output_type": "stream",
     "text": [
      "a+b = [0 0 6 8]\n",
      "The error message you 'll see is :\n",
      "operands could not be broadcast together with shapes (4,) (2,) \n"
     ]
    }
   ],
   "source": [
    "a = np.array([1,2,3,4])\n",
    "b = np.array([-1,-2,3,4])\n",
    "\n",
    "print (f\"a+b = {a+b}\")\n",
    "c = np.array([1,2])\n",
    "\n",
    "try:\n",
    "    a+c\n",
    "except Exception as e :\n",
    "    print (\"The error message you 'll see is :\")\n",
    "    print (e)\n",
    "\n"
   ]
  },
  {
   "cell_type": "code",
   "execution_count": 65,
   "metadata": {},
   "outputs": [
    {
     "name": "stdout",
     "output_type": "stream",
     "text": [
      "[0 1 2 3 4]\n",
      "[ 0  5 10 15 20]\n"
     ]
    }
   ],
   "source": [
    "# We can multiply vector by scalar\n",
    "\n",
    "a = np.arange(5,)\n",
    "print (a)\n",
    "b = a*5\n",
    "print (b)"
   ]
  },
  {
   "attachments": {},
   "cell_type": "markdown",
   "metadata": {},
   "source": [
    "## Vector DOt prodact "
   ]
  },
  {
   "cell_type": "code",
   "execution_count": 66,
   "metadata": {},
   "outputs": [],
   "source": [
    "#lets do it with for loop first \n",
    "\n",
    "def my_dot (a,b):\n",
    "    \"\"\" Compute the dot prodact of two vectors \n",
    "    Args :\n",
    "        a (ndarry (n,)) input vector\n",
    "        b (ndarray (n,)) input vector with same dimension as a \n",
    "    Returns :\n",
    "        x (scalar):\n",
    "    \"\"\"\n",
    "    x = 0\n",
    "    for i in range (a.shape[0]): #we use a.shape[0] because we need the only number not tuble \n",
    "        x = x + a[i] * b[i]\n",
    "    return x"
   ]
  },
  {
   "cell_type": "code",
   "execution_count": 67,
   "metadata": {},
   "outputs": [
    {
     "name": "stdout",
     "output_type": "stream",
     "text": [
      "my dot a , b=  24\n"
     ]
    }
   ],
   "source": [
    "#test our 1-D function \n",
    "\n",
    "a = np.array ([1,2,3,4])\n",
    "b = np.array ([-1,4,3,2])\n",
    "print (f\"my dot a , b=  {my_dot(a,b)}\")"
   ]
  },
  {
   "cell_type": "code",
   "execution_count": 68,
   "metadata": {},
   "outputs": [
    {
     "name": "stdout",
     "output_type": "stream",
     "text": [
      "np.dot(a,b) output is 24 and it's shape is ()\n",
      "np.dot(b,a) output is 24 and it's shape is ()\n"
     ]
    }
   ],
   "source": [
    "#make it with dot\n",
    "\n",
    "c = np.dot(a,b)\n",
    "print (f\"np.dot(a,b) output is {c} and it's shape is {c.shape}\")\n",
    "\n",
    "c = np.dot(b,a) \n",
    "print (f\"np.dot(b,a) output is {c} and it's shape is {c.shape}\")"
   ]
  },
  {
   "attachments": {},
   "cell_type": "markdown",
   "metadata": {},
   "source": [
    "### Test speed vector vs loops"
   ]
  },
  {
   "cell_type": "code",
   "execution_count": 91,
   "metadata": {},
   "outputs": [
    {
     "name": "stdout",
     "output_type": "stream",
     "text": [
      "249825.02337924897\n",
      "np.dot(a,b) = 249825.0234\n",
      "Vectorized version duration: 0.3829ms \n",
      "249825.02337923684\n",
      "output value for our dot function =  249825.0234\n",
      "our dot function time consumed = 272.9671ms  \n",
      "the differnt time is 272.5841999053955ms \n"
     ]
    }
   ],
   "source": [
    "np.random.seed(1) #to keep the results \n",
    "\n",
    "a = np.random.rand(1000000)\n",
    "b = np.random.rand(1000000)\n",
    "\n",
    "timestart = tm.time()\n",
    "c = np.dot(a,b)\n",
    "timeend = tm.time()\n",
    "print (c)\n",
    "print (f\"np.dot(a,b) = {c:.4f}\")\n",
    "print (f\"Vectorized version duration: {1000 * (timeend-timestart):.4f}ms \")\n",
    "\n",
    "tic =tm.time()\n",
    "d = my_dot(a,b)\n",
    "toc= tm.time()\n",
    "\n",
    "print(d)\n",
    "print (f\"output value for our dot function =  {d:.4f}\")\n",
    "print(f\"our dot function time consumed = {1000*(toc-tic):.4f}ms  \")\n",
    "\n",
    "print(f\"the differnt time is {1000*((toc-tic)-(timeend-timestart))}ms \")\n"
   ]
  },
  {
   "attachments": {},
   "cell_type": "markdown",
   "metadata": {},
   "source": [
    "### trying simulate actual example "
   ]
  },
  {
   "cell_type": "code",
   "execution_count": 96,
   "metadata": {},
   "outputs": [
    {
     "name": "stdout",
     "output_type": "stream",
     "text": [
      "[x1 has shape (1,)\n",
      "w shape is (1,)\n",
      "c shape is ()\n"
     ]
    }
   ],
   "source": [
    "x = np.array([[1],[2],[3],[4]])\n",
    "w = np.array([2])\n",
    "c = np.dot(x[1],w)\n",
    "\n",
    "print (f\"[x1 has shape {x[1].shape}\")\n",
    "print (f\"w shape is {w.shape}\")\n",
    "print (f\"c shape is {c.shape}\")"
   ]
  },
  {
   "cell_type": "code",
   "execution_count": 107,
   "metadata": {},
   "outputs": [
    {
     "name": "stdout",
     "output_type": "stream",
     "text": [
      "a shape is (1, 5), and  a is [[0. 0. 0. 0. 0.]]\n",
      "a shape is (2, 1), and a is [[0.]\n",
      " [0.]] \n",
      " a shape is (1, 1), and a is [[0.76080423]]\n"
     ]
    }
   ],
   "source": [
    "# trying 2-d matrix\n",
    "\n",
    "a = np.zeros((1,5))\n",
    "print (f\"a shape is {a.shape}, and  a is {a}\")\n",
    "\n",
    "a = np.zeros ((2,1))\n",
    "print (f\"a shape is {a.shape}, and a is {a} \")\n",
    "\n",
    "a = np.random.random_sample((1,1))\n",
    "print(f\" a shape is {a.shape}, and a is {a}\")\n",
    "\n"
   ]
  },
  {
   "cell_type": "code",
   "execution_count": 117,
   "metadata": {},
   "outputs": [
    {
     "name": "stdout",
     "output_type": "stream",
     "text": [
      "[[0 1]\n",
      " [2 3]\n",
      " [4 5]] \n",
      "a 5 \n",
      "a [4 5]\n"
     ]
    }
   ],
   "source": [
    "a = np.arange(6).reshape(-1,2)\n",
    "print (f\"{a} \\na {a[2,1]} \\na {a[2]}\")\n"
   ]
  },
  {
   "cell_type": "code",
   "execution_count": null,
   "metadata": {},
   "outputs": [],
   "source": []
  }
 ],
 "metadata": {
  "kernelspec": {
   "display_name": "base",
   "language": "python",
   "name": "python3"
  },
  "language_info": {
   "codemirror_mode": {
    "name": "ipython",
    "version": 3
   },
   "file_extension": ".py",
   "mimetype": "text/x-python",
   "name": "python",
   "nbconvert_exporter": "python",
   "pygments_lexer": "ipython3",
   "version": "3.9.12"
  },
  "orig_nbformat": 4,
  "vscode": {
   "interpreter": {
    "hash": "bc40bc35b6e8f5a612d99dfe98b13a5df47ad86c9d3add2736c259d236f2d570"
   }
  }
 },
 "nbformat": 4,
 "nbformat_minor": 2
}
